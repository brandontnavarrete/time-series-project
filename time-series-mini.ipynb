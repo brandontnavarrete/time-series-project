{
 "cells": [
  {
   "cell_type": "code",
   "execution_count": null,
   "id": "517d64b3",
   "metadata": {},
   "outputs": [],
   "source": [
    "import pandas as pd\n",
    "import numpy as np\n",
    "import os\n",
    "import math\n",
    "\n",
    "import matplotlib.pyplot as plt\n",
    "%matplotlib inline\n",
    "import seaborn as sns\n",
    "from seaborn import heatmap\n",
    "\n",
    "from sklearn.metrics import mean_squared_error\n",
    "from sklearn.model_selection import TimeSeriesSplit\n",
    "import statsmodels.api as sm\n",
    "from statsmodels.tsa.api import Holt\n",
    "\n",
    "import warnings\n",
    "warnings.filterwarnings(\"ignore\")"
   ]
  },
  {
   "cell_type": "code",
   "execution_count": null,
   "id": "53f622ac",
   "metadata": {},
   "outputs": [],
   "source": [
    "df = pd.read_csv('GlobalLandTemperaturesByMajorCity.csv')"
   ]
  },
  {
   "cell_type": "code",
   "execution_count": null,
   "id": "c72358f3",
   "metadata": {},
   "outputs": [],
   "source": [
    "df.head(1)"
   ]
  },
  {
   "cell_type": "code",
   "execution_count": null,
   "id": "8bf2f0da",
   "metadata": {},
   "outputs": [],
   "source": [
    "# clean data\n",
    "df.columns = [col.lower() for col in df]"
   ]
  },
  {
   "cell_type": "code",
   "execution_count": null,
   "id": "942abe67",
   "metadata": {},
   "outputs": [],
   "source": [
    "# rename\n",
    "df = df.rename(columns= {'dt':'datetime','AverageTemperature':'avg_temp',\"averagetemperatureuncertainty\":'uncertainty'})\n",
    "df = df.drop(columns= ['latitude','longitude','country'])"
   ]
  },
  {
   "cell_type": "code",
   "execution_count": null,
   "id": "d175d62b",
   "metadata": {},
   "outputs": [],
   "source": [
    "df.datetime = pd.to_datetime(df.datetime)"
   ]
  },
  {
   "cell_type": "code",
   "execution_count": null,
   "id": "2a6ec7d1",
   "metadata": {},
   "outputs": [],
   "source": [
    "df = df.set_index('datetime').sort_values(by = 'datetime')"
   ]
  },
  {
   "cell_type": "code",
   "execution_count": null,
   "id": "b08d7672",
   "metadata": {},
   "outputs": [],
   "source": [
    "dfc = df[df.city == 'Chicago'] \n",
    "dfc = dfc.drop(columns= ['city'])"
   ]
  },
  {
   "cell_type": "code",
   "execution_count": null,
   "id": "5f616568",
   "metadata": {},
   "outputs": [],
   "source": [
    "<div class=\"alert alert-block alert-info\">\n",
    "<b>Take Aways:</b> I dropped 98 nulls, i think i want to forecast the next two weeks temperatures, using data from 1980 to 2013, 2013 being my test data.\n",
    "\n"
   ]
  },
  {
   "cell_type": "code",
   "execution_count": null,
   "id": "847251d9",
   "metadata": {},
   "outputs": [],
   "source": [
    "dfc = dfc['1960':]"
   ]
  },
  {
   "cell_type": "code",
   "execution_count": null,
   "id": "e4d33634",
   "metadata": {},
   "outputs": [],
   "source": [
    "dfc = dfc.drop(columns= ['city','latitude','longitude','country'])"
   ]
  },
  {
   "cell_type": "code",
   "execution_count": null,
   "id": "4b8a2092",
   "metadata": {},
   "outputs": [],
   "source": [
    "# rename\n",
    "dfc = dfc.rename(columns= {'averagetemperature':'avg_temp'})\n",
    "dfc = dfc.rename(columns= {'averagetemperatureuncertainty':'uncertainty'})"
   ]
  },
  {
   "cell_type": "code",
   "execution_count": null,
   "id": "4c836202",
   "metadata": {},
   "outputs": [],
   "source": [
    "dfc.plot(y = \"avg_temp\")\n",
    "dfc.plot(y = \"uncertainty\")"
   ]
  },
  {
   "cell_type": "markdown",
   "id": "163e11cb",
   "metadata": {},
   "source": [
    "<div class=\"alert alert-block alert-info\">\n",
    "<b>Take Aways:</b> it looks like `avg_temp` and `uncertainty` are both rising gradually"
   ]
  },
  {
   "cell_type": "code",
   "execution_count": null,
   "id": "fc3e1266",
   "metadata": {},
   "outputs": [],
   "source": [
    "dfc.plot(y = \"avg_temp\")\n",
    "dfc.plot(y = \"uncertainty\")"
   ]
  },
  {
   "cell_type": "code",
   "execution_count": null,
   "id": "d2669517",
   "metadata": {},
   "outputs": [],
   "source": []
  },
  {
   "cell_type": "code",
   "execution_count": null,
   "id": "15d91efd",
   "metadata": {},
   "outputs": [],
   "source": []
  },
  {
   "cell_type": "code",
   "execution_count": null,
   "id": "1022d163",
   "metadata": {},
   "outputs": [],
   "source": []
  },
  {
   "cell_type": "code",
   "execution_count": null,
   "id": "69183950",
   "metadata": {},
   "outputs": [],
   "source": []
  },
  {
   "cell_type": "code",
   "execution_count": null,
   "id": "7319c1a9",
   "metadata": {},
   "outputs": [],
   "source": []
  },
  {
   "cell_type": "code",
   "execution_count": null,
   "id": "44699793",
   "metadata": {},
   "outputs": [],
   "source": []
  },
  {
   "cell_type": "code",
   "execution_count": null,
   "id": "89b18b6f",
   "metadata": {},
   "outputs": [],
   "source": []
  },
  {
   "cell_type": "code",
   "execution_count": null,
   "id": "4b88db8a",
   "metadata": {},
   "outputs": [],
   "source": []
  },
  {
   "cell_type": "code",
   "execution_count": null,
   "id": "fd53b437",
   "metadata": {},
   "outputs": [],
   "source": []
  },
  {
   "cell_type": "code",
   "execution_count": null,
   "id": "8dc743bb",
   "metadata": {},
   "outputs": [],
   "source": []
  },
  {
   "cell_type": "code",
   "execution_count": null,
   "id": "d206d4c6",
   "metadata": {},
   "outputs": [],
   "source": []
  },
  {
   "cell_type": "code",
   "execution_count": null,
   "id": "6a7af8a6",
   "metadata": {},
   "outputs": [],
   "source": []
  },
  {
   "cell_type": "code",
   "execution_count": null,
   "id": "f92208dd",
   "metadata": {},
   "outputs": [],
   "source": []
  },
  {
   "cell_type": "code",
   "execution_count": null,
   "id": "446c920e",
   "metadata": {},
   "outputs": [],
   "source": []
  },
  {
   "cell_type": "code",
   "execution_count": null,
   "id": "3a479935",
   "metadata": {},
   "outputs": [],
   "source": []
  }
 ],
 "metadata": {
  "kernelspec": {
   "display_name": "Python 3 (ipykernel)",
   "language": "python",
   "name": "python3"
  },
  "language_info": {
   "codemirror_mode": {
    "name": "ipython",
    "version": 3
   },
   "file_extension": ".py",
   "mimetype": "text/x-python",
   "name": "python",
   "nbconvert_exporter": "python",
   "pygments_lexer": "ipython3",
   "version": "3.9.13"
  },
  "toc": {
   "base_numbering": 1,
   "nav_menu": {},
   "number_sections": true,
   "sideBar": true,
   "skip_h1_title": false,
   "title_cell": "Table of Contents",
   "title_sidebar": "Contents",
   "toc_cell": false,
   "toc_position": {},
   "toc_section_display": true,
   "toc_window_display": false
  }
 },
 "nbformat": 4,
 "nbformat_minor": 5
}
