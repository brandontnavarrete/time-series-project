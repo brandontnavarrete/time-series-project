{
 "cells": [
  {
   "cell_type": "code",
   "execution_count": null,
   "id": "726b308d",
   "metadata": {},
   "outputs": [],
   "source": [
    "import pandas as pd\n",
    "import numpy as np\n",
    "import os\n",
    "import math\n",
    "import matplotlib.pyplot as plt\n",
    "%matplotlib inline\n",
    "import seaborn as sns\n",
    "from seaborn import heatmap"
   ]
  },
  {
   "cell_type": "code",
   "execution_count": 1,
   "id": "5ecfa6bb",
   "metadata": {},
   "outputs": [],
   "source": [
    "from math import sqrt"
   ]
  },
  {
   "cell_type": "code",
   "execution_count": null,
   "id": "086bd43a",
   "metadata": {},
   "outputs": [],
   "source": [
    "\n",
    "\n",
    "\n",
    "from sklearn.metrics import mean_squared_error\n",
    "from sklearn.model_selection import TimeSeriesSplit\n",
    "import statsmodels.api as sm\n",
    "from statsmodels.tsa.api import Holt\n",
    "\n",
    "import warnings\n",
    "warnings.filterwarnings(\"ignore\")"
   ]
  },
  {
   "cell_type": "markdown",
   "id": "a04fb590",
   "metadata": {},
   "source": [
    "# acquire"
   ]
  },
  {
   "cell_type": "code",
   "execution_count": null,
   "id": "505a1335",
   "metadata": {},
   "outputs": [],
   "source": [
    "df = pd.read_csv('GlobalLandTemperaturesByMajorCity.csv')"
   ]
  },
  {
   "cell_type": "markdown",
   "id": "4c6a5898",
   "metadata": {},
   "source": [
    "# prepare"
   ]
  },
  {
   "cell_type": "code",
   "execution_count": null,
   "id": "3d46984a",
   "metadata": {},
   "outputs": [],
   "source": [
    "df.head(1)"
   ]
  },
  {
   "cell_type": "code",
   "execution_count": null,
   "id": "2ae1e3f2",
   "metadata": {},
   "outputs": [],
   "source": [
    "# clean data\n",
    "df.columns = [col.lower() for col in df]"
   ]
  },
  {
   "cell_type": "code",
   "execution_count": null,
   "id": "2b698a83",
   "metadata": {},
   "outputs": [],
   "source": [
    "# rename\n",
    "df = df.rename(columns= {'dt':'datetime','AverageTemperature':'avg_temp',\"averagetemperatureuncertainty\":'uncertainty'})\n",
    "df = df.drop(columns= ['latitude','longitude','country'])"
   ]
  },
  {
   "cell_type": "code",
   "execution_count": null,
   "id": "20bf3531",
   "metadata": {},
   "outputs": [],
   "source": [
    "df"
   ]
  },
  {
   "cell_type": "code",
   "execution_count": null,
   "id": "9c3ff333",
   "metadata": {},
   "outputs": [],
   "source": [
    "df.datetime = pd.to_datetime(df.datetime)"
   ]
  },
  {
   "cell_type": "code",
   "execution_count": null,
   "id": "8fa0b30f",
   "metadata": {},
   "outputs": [],
   "source": [
    "df = df.set_index('datetime').sort_values(by = 'datetime')"
   ]
  },
  {
   "cell_type": "code",
   "execution_count": null,
   "id": "ee214f47",
   "metadata": {},
   "outputs": [],
   "source": [
    "dfc = df[df.city == 'Chicago'] \n",
    "dfc = dfc.drop(columns= ['city'])"
   ]
  },
  {
   "cell_type": "code",
   "execution_count": null,
   "id": "08ee95fe",
   "metadata": {},
   "outputs": [],
   "source": [
    "dfc.isnull().value_counts()"
   ]
  },
  {
   "cell_type": "code",
   "execution_count": null,
   "id": "e591f8ea",
   "metadata": {},
   "outputs": [],
   "source": [
    "dfc.shape"
   ]
  },
  {
   "cell_type": "code",
   "execution_count": null,
   "id": "20d8e57a",
   "metadata": {},
   "outputs": [],
   "source": [
    "print('Number of rows:', df.index.nunique())\n",
    "n_days = df.index.max() - df.index.min() + pd.Timedelta('1d')\n",
    "print(f\"Number of days between first and last day:\", n_days)\n"
   ]
  },
  {
   "cell_type": "code",
   "execution_count": null,
   "id": "c859a403",
   "metadata": {},
   "outputs": [],
   "source": [
    "dfc.index.max()"
   ]
  },
  {
   "cell_type": "code",
   "execution_count": null,
   "id": "7dc73232",
   "metadata": {},
   "outputs": [],
   "source": [
    "dfc.index.min()"
   ]
  },
  {
   "cell_type": "code",
   "execution_count": null,
   "id": "c421188c",
   "metadata": {},
   "outputs": [],
   "source": [
    "# dfc = dfc.dropna()"
   ]
  },
  {
   "cell_type": "markdown",
   "id": "57be1534",
   "metadata": {},
   "source": [
    "<div class=\"alert alert-block alert-info\">\n",
    "<b>Take Aways:</b> I dropped 98 nulls, i think i want to forecast the next two weeks temperatures, using data from 1980 to 2013, 2013 being my test data.\n"
   ]
  },
  {
   "cell_type": "code",
   "execution_count": null,
   "id": "7504e558",
   "metadata": {},
   "outputs": [],
   "source": [
    "dfc = dfc['1960':]"
   ]
  },
  {
   "cell_type": "code",
   "execution_count": null,
   "id": "e539a247",
   "metadata": {},
   "outputs": [],
   "source": [
    "print('Number of rows:', dfc.index.nunique())\n",
    "n_days = dfc.index.max() - dfc.index.min() + pd.Timedelta('1d')\n",
    "print(f\"Number of days between first and last day:\", n_days)\n"
   ]
  },
  {
   "cell_type": "code",
   "execution_count": null,
   "id": "d4c1ebbf",
   "metadata": {},
   "outputs": [],
   "source": [
    "dfc"
   ]
  },
  {
   "cell_type": "code",
   "execution_count": null,
   "id": "26b8348b",
   "metadata": {},
   "outputs": [],
   "source": [
    "# rename\n",
    "dfc = dfc.rename(columns= {'averagetemperature':'avg_temp'})\n",
    "dfc = dfc.rename(columns= {'averagetemperatureuncertainty':'uncertainty'})"
   ]
  },
  {
   "cell_type": "code",
   "execution_count": null,
   "id": "f191a8c9",
   "metadata": {
    "scrolled": true
   },
   "outputs": [],
   "source": [
    "dfc.plot(y = \"avg_temp\")\n",
    "dfc.plot(y = \"uncertainty\")"
   ]
  },
  {
   "cell_type": "markdown",
   "id": "e05ab8fc",
   "metadata": {},
   "source": [
    "<div class=\"alert alert-block alert-info\">\n",
    "<b>Take Aways:</b> it looks like `avg_temp` and `uncertainty` are both rising gradually"
   ]
  },
  {
   "cell_type": "code",
   "execution_count": null,
   "id": "cbb0e0e6",
   "metadata": {},
   "outputs": [],
   "source": [
    "print('Number of rows:', dfc.index.nunique())\n",
    "n_days = dfc.index.max() - dfc.index.min() + pd.Timedelta('1d')\n",
    "print(f\"Number of days between first and last day:\", n_days)"
   ]
  },
  {
   "cell_type": "code",
   "execution_count": null,
   "id": "38c7f5f2",
   "metadata": {},
   "outputs": [],
   "source": [
    "dfc.index.max(),dfc.index.min()"
   ]
  },
  {
   "cell_type": "markdown",
   "id": "f0943d00",
   "metadata": {},
   "source": [
    "# percentage-based split"
   ]
  },
  {
   "cell_type": "code",
   "execution_count": null,
   "id": "741f3886",
   "metadata": {},
   "outputs": [],
   "source": [
    "train_size = int(len(dfc) * .5)\n",
    "validate_size = int(len(dfc) * .3)\n",
    "test_size = int(len(dfc) - train_size - validate_size)\n",
    "validate_end_index = train_size + validate_size\n",
    "\n",
    "# split into train, validation, test\n",
    "train = dfc[: train_size]\n",
    "validate = dfc[train_size : validate_end_index]\n",
    "test = dfc[validate_end_index : ]"
   ]
  },
  {
   "cell_type": "code",
   "execution_count": null,
   "id": "7b34f0ff",
   "metadata": {},
   "outputs": [],
   "source": [
    "train"
   ]
  },
  {
   "cell_type": "code",
   "execution_count": null,
   "id": "22946d27",
   "metadata": {},
   "outputs": [],
   "source": [
    "for col in train.columns:\n",
    "    plt.figure(figsize=(12,4))\n",
    "    plt.plot(train[col])\n",
    "    plt.plot(validate[col])\n",
    "    plt.plot(test[col])\n",
    "    plt.ylabel(col)\n",
    "    plt.title(col)\n",
    "    plt.show()"
   ]
  },
  {
   "cell_type": "markdown",
   "id": "94afd05d",
   "metadata": {},
   "source": [
    "# visuals"
   ]
  },
  {
   "cell_type": "code",
   "execution_count": null,
   "id": "ad2fc11e",
   "metadata": {},
   "outputs": [],
   "source": [
    "y = train['avg_temp']"
   ]
  },
  {
   "cell_type": "code",
   "execution_count": null,
   "id": "49665a4c",
   "metadata": {},
   "outputs": [],
   "source": [
    "y.plot.hist()\n"
   ]
  },
  {
   "cell_type": "markdown",
   "id": "1d8e2833",
   "metadata": {},
   "source": [
    "<div class=\"alert alert-block alert-info\">\n",
    "<b>Take Aways:</b> alot of cold days.. 25 celsius or 75 has very occasions than 5 c"
   ]
  },
  {
   "cell_type": "code",
   "execution_count": null,
   "id": "6bcd7e36",
   "metadata": {},
   "outputs": [],
   "source": [
    "ax = y.groupby(y.index.week).mean().plot.bar(width = .7)\n",
    "ax.set(title='Average Temperature by Week In Chicago', xlabel='week', ylabel='Temp (C)')\n",
    "None"
   ]
  },
  {
   "cell_type": "code",
   "execution_count": null,
   "id": "df159bc6",
   "metadata": {
    "scrolled": true
   },
   "outputs": [],
   "source": [
    "ax = y.groupby(y.index.month).mean().plot.bar(width = .7)\n",
    "ax.set(title='Average Temperature by Month In Chicago', xlabel='Month', ylabel='Temp (C)')\n",
    "None\n",
    "\n"
   ]
  },
  {
   "cell_type": "markdown",
   "id": "d4e7a8fa",
   "metadata": {},
   "source": [
    "# over time"
   ]
  },
  {
   "cell_type": "code",
   "execution_count": null,
   "id": "40569881",
   "metadata": {},
   "outputs": [],
   "source": [
    "y.plot()"
   ]
  },
  {
   "cell_type": "code",
   "execution_count": null,
   "id": "4c0fa1cc",
   "metadata": {},
   "outputs": [],
   "source": [
    "dfc['wok'] = dfc.index.strftime('%a') \n",
    "dfc['mon'] = dfc.index.strftime('%b') "
   ]
  },
  {
   "cell_type": "markdown",
   "id": "b422d771",
   "metadata": {},
   "source": [
    "## resample"
   ]
  },
  {
   "cell_type": "code",
   "execution_count": null,
   "id": "6cc6f018",
   "metadata": {},
   "outputs": [],
   "source": [
    "y"
   ]
  },
  {
   "cell_type": "code",
   "execution_count": null,
   "id": "dc5d90f8",
   "metadata": {},
   "outputs": [],
   "source": [
    "train.resample('m').mean().plot(title='1 Month Average')\n"
   ]
  },
  {
   "cell_type": "code",
   "execution_count": null,
   "id": "d2419a74",
   "metadata": {},
   "outputs": [],
   "source": [
    "y.resample('3m').mean().plot(title='2 week average')\n",
    "None"
   ]
  },
  {
   "cell_type": "code",
   "execution_count": null,
   "id": "756db2f5",
   "metadata": {},
   "outputs": [],
   "source": [
    "y.resample('M').mean().plot(label='Montly')\n",
    "y.resample('Y').mean().plot(label='Yearly')\n",
    "plt.legend()\n",
    "None"
   ]
  },
  {
   "cell_type": "code",
   "execution_count": null,
   "id": "98257311",
   "metadata": {},
   "outputs": [],
   "source": [
    "y.resample('M').mean().rolling(3).mean().plot(alpha=.5, label='3 Month')\n",
    "y.resample('M').mean().rolling(6).mean().plot(alpha=.8, label='6 Month')\n",
    "plt.title ('Rolling Monthly Average')\n",
    "plt.ylabel('Temp')\n",
    "plt.legend()\n",
    "\n",
    "None\n"
   ]
  },
  {
   "cell_type": "markdown",
   "id": "6c9fc48d",
   "metadata": {},
   "source": [
    "# Last Observed Values"
   ]
  },
  {
   "cell_type": "code",
   "execution_count": null,
   "id": "290e53e2",
   "metadata": {},
   "outputs": [],
   "source": [
    "train"
   ]
  },
  {
   "cell_type": "code",
   "execution_count": null,
   "id": "8ea9e92a",
   "metadata": {},
   "outputs": [],
   "source": [
    "avg_temp = train['avg_temp'][-1:][0]\n",
    "uncertainty = train['uncertainty'][-1:][0]"
   ]
  },
  {
   "cell_type": "markdown",
   "id": "ebd86880",
   "metadata": {},
   "source": [
    "# functions to help"
   ]
  },
  {
   "cell_type": "code",
   "execution_count": null,
   "id": "a9bbbaf0",
   "metadata": {},
   "outputs": [],
   "source": [
    "# Create the empty dataframe\n",
    "eval_df = pd.DataFrame(columns=['model_type', 'target_var', 'rmse'])\n"
   ]
  },
  {
   "cell_type": "code",
   "execution_count": null,
   "id": "f53d8f2e",
   "metadata": {},
   "outputs": [],
   "source": [
    "# evaluation function to compute rmse\n",
    "def evaluate(target_var):\n",
    "    rmse = round(sqrt(mean_squared_error(validate[target_var], yhat_df[target_var])), 0)\n",
    "    return rmse\n"
   ]
  },
  {
   "cell_type": "code",
   "execution_count": null,
   "id": "a8b8f26a",
   "metadata": {},
   "outputs": [],
   "source": [
    "def plot_and_eval(target_var):\n",
    "    plt.figure(figsize = (12,4))\n",
    "    plt.plot(train[target_var], label = 'Train', linewidth = 1)\n",
    "    plt.plot(validate[target_var], label = 'Validate', linewidth = 1)\n",
    "    plt.plot(yhat_df[target_var])\n",
    "    plt.title(target_var)\n",
    "    plt.legend()\n",
    "    rmse = evaluate(target_var)\n",
    "    print(target_var, '-- RMSE: {:.0f}'.format(rmse))\n",
    "    plt.show()"
   ]
  },
  {
   "cell_type": "code",
   "execution_count": null,
   "id": "df0b4a47",
   "metadata": {},
   "outputs": [],
   "source": [
    "def append_eval_df(model_type, target_var):\n",
    "    rmse = evaluate(target_var)\n",
    "    d = {'model_type': [model_type], 'target_var': [target_var], 'rmse': [rmse]}\n",
    "    d = pd.DataFrame(d)\n",
    "    return eval_df.append(d, ignore_index = True)\n"
   ]
  },
  {
   "cell_type": "markdown",
   "id": "f41bd32a",
   "metadata": {},
   "source": [
    "# prediction table"
   ]
  },
  {
   "cell_type": "code",
   "execution_count": null,
   "id": "18639265",
   "metadata": {},
   "outputs": [],
   "source": [
    "yhat_df = pd.DataFrame({'avg_temp': [avg_temp], 'uncertainty': [uncertainty]}, \n",
    "                       index = validate.index)\n",
    "\n",
    "yhat_df.head(2)"
   ]
  },
  {
   "cell_type": "code",
   "execution_count": null,
   "id": "e85334b8",
   "metadata": {},
   "outputs": [],
   "source": [
    " plot_and_eval(['avg_temp','uncertainty'])"
   ]
  },
  {
   "cell_type": "markdown",
   "id": "e3df85d7",
   "metadata": {},
   "source": [
    "# eval"
   ]
  },
  {
   "cell_type": "code",
   "execution_count": null,
   "id": "2ecdb32f",
   "metadata": {},
   "outputs": [],
   "source": [
    "for col in train.columns:\n",
    "    eval_df = append_eval_df(model_type = 'last_observed_value', \n",
    "                             target_var = col)"
   ]
  },
  {
   "cell_type": "code",
   "execution_count": null,
   "id": "65df1c46",
   "metadata": {},
   "outputs": [],
   "source": [
    "eval_df"
   ]
  },
  {
   "cell_type": "markdown",
   "id": "aa241cbe",
   "metadata": {},
   "source": [
    "# simple average"
   ]
  },
  {
   "cell_type": "code",
   "execution_count": null,
   "id": "72077543",
   "metadata": {},
   "outputs": [],
   "source": [
    "avg_temp = round(train['avg_temp'].mean(),2)\n",
    "uncertainty = round(train['uncertainty'].mean(),2)"
   ]
  },
  {
   "cell_type": "code",
   "execution_count": null,
   "id": "5d1694d3",
   "metadata": {},
   "outputs": [],
   "source": [
    "yhat_df = pd.DataFrame({'avg_temp': [avg_temp],\n",
    "                            'uncertainty': [uncertainty],\n",
    "                           }, index = validate.index)"
   ]
  },
  {
   "cell_type": "code",
   "execution_count": null,
   "id": "64e246b6",
   "metadata": {},
   "outputs": [],
   "source": [
    "yhat_df.head(1)"
   ]
  },
  {
   "cell_type": "markdown",
   "id": "707c08b2",
   "metadata": {},
   "source": [
    "# actual vs predict values"
   ]
  },
  {
   "cell_type": "code",
   "execution_count": null,
   "id": "94844615",
   "metadata": {},
   "outputs": [],
   "source": [
    "for col in train.columns:\n",
    "    plot_and_eval(col)"
   ]
  },
  {
   "cell_type": "markdown",
   "id": "431c1d38",
   "metadata": {},
   "source": [
    "# evaluate"
   ]
  },
  {
   "cell_type": "code",
   "execution_count": null,
   "id": "f91957bb",
   "metadata": {},
   "outputs": [],
   "source": [
    "for col in train.columns:\n",
    "    eval_df = append_eval_df(model_type='simple_average', \n",
    "                             target_var = col)"
   ]
  },
  {
   "cell_type": "code",
   "execution_count": null,
   "id": "4c2b2150",
   "metadata": {},
   "outputs": [],
   "source": [
    "eval_df"
   ]
  },
  {
   "cell_type": "markdown",
   "id": "050b8f6f",
   "metadata": {},
   "source": [
    "# moving average"
   ]
  },
  {
   "cell_type": "code",
   "execution_count": null,
   "id": "df48df74",
   "metadata": {},
   "outputs": [],
   "source": [
    "# compute a 30 day rolling average, \n",
    "# use the most recent/last 30 day period value to predict forward. \n",
    "\n",
    "period = 30\n",
    "\n",
    "avg_temp = round(train['avg_temp'].rolling(period).mean().iloc[-1], 2)\n",
    "uncertainty = round(train['uncertainty'].rolling(period).mean().iloc[-1], 2)"
   ]
  },
  {
   "cell_type": "code",
   "execution_count": null,
   "id": "8e77a436",
   "metadata": {},
   "outputs": [],
   "source": [
    "# yhat_df = make_predictions()\n",
    "\n",
    "yhat_df = pd.DataFrame({'avg_temp': [avg_temp],\n",
    "                            'uncertainty': [uncertainty],\n",
    "                           }, index = validate.index)\n",
    "yhat_df.head(2)"
   ]
  },
  {
   "cell_type": "code",
   "execution_count": null,
   "id": "7db9c8e3",
   "metadata": {},
   "outputs": [],
   "source": [
    "for col in train.columns:\n",
    "    plot_and_eval(col)"
   ]
  },
  {
   "cell_type": "markdown",
   "id": "b8f21f5d",
   "metadata": {},
   "source": [
    "# evaluate"
   ]
  },
  {
   "cell_type": "code",
   "execution_count": null,
   "id": "0540c96b",
   "metadata": {},
   "outputs": [],
   "source": [
    "for col in train.columns:\n",
    "    eval_df = append_eval_df(model_type='30d moving average', \n",
    "                             target_var = col)\n",
    "eval_df"
   ]
  },
  {
   "cell_type": "code",
   "execution_count": null,
   "id": "b5d2b14e",
   "metadata": {},
   "outputs": [],
   "source": [
    "train"
   ]
  },
  {
   "cell_type": "code",
   "execution_count": null,
   "id": "4a1303d4",
   "metadata": {},
   "outputs": [],
   "source": [
    "periods = [1, 4, 12, 26, 52, 104]\n",
    "\n",
    "for p in periods:\n",
    "    avg_temp = round(train['avg_temp'].rolling(p).mean().iloc[-1], 2)\n",
    "    uncertainty = round(train['uncertainty'].rolling(p).mean().iloc[-1], 2)\n",
    "\n",
    "    yhat_df = pd.DataFrame({'avg_temp': [avg_temp],\n",
    "                            'uncertainty': [uncertainty],\n",
    "                           }, index = validate.index)\n",
    "\n",
    "    model_type = str(p) + 'd moving average'\n",
    "    eval_df = append_eval_df(model_type = model_type,\n",
    "                             target_var = 'avg_temp'\n",
    "                            )\n",
    "    eval_df = append_eval_df(model_type = model_type,\n",
    "                             target_var = 'uncertainty'\n",
    "                            )"
   ]
  },
  {
   "cell_type": "code",
   "execution_count": null,
   "id": "f911e4b3",
   "metadata": {},
   "outputs": [],
   "source": [
    "eval_df"
   ]
  },
  {
   "cell_type": "code",
   "execution_count": null,
   "id": "5cb2ce3a",
   "metadata": {},
   "outputs": [],
   "source": [
    "# # get the min rmse for each variable\n",
    "\n",
    "min_rmse_dollars_sold = eval_df.groupby('target_var')['rmse'].min()[0]\n",
    "min_rmse_items_sold = eval_df.groupby('target_var')['rmse'].min()[1]\n",
    "\n",
    "# filter only the rows that match those rmse to find out \n",
    "# which models are best thus far\n",
    "eval_df[((eval_df.rmse == min_rmse_dollars_sold) | \n",
    "         (eval_df.rmse == min_rmse_items_sold)\n",
    "        )]"
   ]
  },
  {
   "cell_type": "code",
   "execution_count": null,
   "id": "9d605548",
   "metadata": {},
   "outputs": [],
   "source": [
    "import statsmodels.api as sm\n",
    "\n",
    "for col in train.columns:\n",
    "    print(col,'\\n')\n",
    "    _ = sm.tsa.seasonal_decompose(train[col].resample('m').mean()).plot()\n",
    "    plt.show()"
   ]
  },
  {
   "cell_type": "markdown",
   "id": "fec1749a",
   "metadata": {},
   "source": [
    "# basic holt's linear trend"
   ]
  },
  {
   "cell_type": "code",
   "execution_count": null,
   "id": "e44e4a94",
   "metadata": {},
   "outputs": [],
   "source": [
    "for col in train.columns:\n",
    "    model = Holt(train[col], exponential = False)\n",
    "    model = model.fit(smoothing_level = .1, \n",
    "                      smoothing_slope = .1, \n",
    "                      optimized = False)\n",
    "    yhat_items = model.predict(start = validate.index[0], \n",
    "                               end = validate.index[-1])\n",
    "    yhat_df[col] = round(yhat_items, 2)"
   ]
  },
  {
   "cell_type": "code",
   "execution_count": null,
   "id": "f98b9d68",
   "metadata": {},
   "outputs": [],
   "source": [
    "for col in train.columns:\n",
    "    plot_and_eval(target_var = col)"
   ]
  },
  {
   "cell_type": "markdown",
   "id": "84067f0f",
   "metadata": {},
   "source": [
    "# evaluate"
   ]
  },
  {
   "cell_type": "code",
   "execution_count": null,
   "id": "57bb7c8e",
   "metadata": {},
   "outputs": [],
   "source": [
    "for col in train.columns:\n",
    "    eval_df = append_eval_df(model_type = 'Holts', \n",
    "                             target_var = col)\n",
    "eval_df"
   ]
  },
  {
   "cell_type": "code",
   "execution_count": null,
   "id": "cea11a3e",
   "metadata": {},
   "outputs": [],
   "source": [
    "# f"
   ]
  },
  {
   "cell_type": "markdown",
   "id": "61298c28",
   "metadata": {},
   "source": [
    "# resplit data\n"
   ]
  },
  {
   "cell_type": "code",
   "execution_count": null,
   "id": "a0ec813a",
   "metadata": {},
   "outputs": [],
   "source": [
    "dfc.index.max()"
   ]
  },
  {
   "cell_type": "code",
   "execution_count": null,
   "id": "9f3b7bc1",
   "metadata": {},
   "outputs": [],
   "source": [
    "dfc = dfc.drop(columns = ['wok','mon'])"
   ]
  },
  {
   "cell_type": "code",
   "execution_count": null,
   "id": "a82f509d",
   "metadata": {},
   "outputs": [],
   "source": [
    "train = dfc[:'2010'] # 2015\n",
    "validate = dfc['2011'] # 2016\n",
    "test = dfc['2012'] # 2017"
   ]
  },
  {
   "cell_type": "markdown",
   "id": "95769397",
   "metadata": {},
   "source": [
    "# make predictions"
   ]
  },
  {
   "cell_type": "code",
   "execution_count": null,
   "id": "6825e8d6",
   "metadata": {},
   "outputs": [],
   "source": [
    "train['2011']"
   ]
  },
  {
   "cell_type": "code",
   "execution_count": null,
   "id": "f931225e",
   "metadata": {},
   "outputs": [],
   "source": [
    "yhat_df = train['2011'] + train.diff(365).mean()"
   ]
  },
  {
   "cell_type": "code",
   "execution_count": null,
   "id": "ab33cbad",
   "metadata": {},
   "outputs": [],
   "source": [
    "pd.concat([yhat_df.head(1), validate.head(1)])"
   ]
  },
  {
   "cell_type": "code",
   "execution_count": null,
   "id": "039c2943",
   "metadata": {},
   "outputs": [],
   "source": [
    "yhat_df.index = validate.index\n",
    "\n",
    "len(yhat_df)"
   ]
  },
  {
   "cell_type": "code",
   "execution_count": null,
   "id": "4a4bd6e8",
   "metadata": {},
   "outputs": [],
   "source": [
    "for col in train.columns:\n",
    "    plot_and_eval(target_var = col)\n",
    "    eval_df = append_eval_df(model_type = 'previous year', target_var = col)\n"
   ]
  },
  {
   "cell_type": "code",
   "execution_count": null,
   "id": "f7b11069",
   "metadata": {},
   "outputs": [],
   "source": [
    "eval_df\n"
   ]
  },
  {
   "cell_type": "code",
   "execution_count": null,
   "id": "c53477f1",
   "metadata": {},
   "outputs": [],
   "source": [
    "# get the min rmse for each variable\n",
    "\n",
    "min_avg_temp_rmse = eval_df.groupby('target_var')['rmse'].min()[0]\n",
    "min_uncertainty_rmse = eval_df.groupby('target_var')['rmse'].min()[1]\n",
    "\n",
    "# filter only the rows that match those rmse to find out \n",
    "# which models are best thus far\n",
    "eval_df[((eval_df.rmse == min_avg_temp_rmse) | \n",
    "         (eval_df.rmse == min_uncertainty_rmse)\n",
    "        )]\n"
   ]
  },
  {
   "cell_type": "code",
   "execution_count": null,
   "id": "ee0e32e5",
   "metadata": {},
   "outputs": [],
   "source": [
    "for col in train.columns:\n",
    "    x = eval_df[eval_df.target_var == col]['model_type']\n",
    "    y = eval_df[eval_df.target_var == col]['rmse']\n",
    "    plt.figure(figsize=(12, 6))\n",
    "    sns.barplot(x=x, y=y)\n",
    "    plt.title(col)\n",
    "    plt.ylabel('RMSE')\n",
    "    plt.xticks(rotation=45)\n",
    "    plt.show()"
   ]
  },
  {
   "cell_type": "code",
   "execution_count": null,
   "id": "bbcf9405",
   "metadata": {},
   "outputs": [],
   "source": [
    "train"
   ]
  },
  {
   "cell_type": "code",
   "execution_count": null,
   "id": "d20600f2",
   "metadata": {},
   "outputs": [],
   "source": [
    "yhat_df = validate + train.diff(365).mean()\n",
    "yhat_df.index = test.index\n"
   ]
  },
  {
   "cell_type": "code",
   "execution_count": null,
   "id": "b68da101",
   "metadata": {},
   "outputs": [],
   "source": [
    "test"
   ]
  },
  {
   "cell_type": "code",
   "execution_count": null,
   "id": "8a643cb4",
   "metadata": {},
   "outputs": [],
   "source": [
    "avg_temp = round(sqrt(mean_squared_error(test['avg_temp'], yhat_df['avg_temp'])), 0)\n",
    "uncertainty = round(sqrt(mean_squared_error(test['uncertainty'], yhat_df['uncertainty'])), 0)\n"
   ]
  },
  {
   "cell_type": "code",
   "execution_count": null,
   "id": "b847169c",
   "metadata": {},
   "outputs": [],
   "source": [
    "# Plot and evaluate train, validate, and test\n",
    "def plot_and_eval_test(target_var):\n",
    "    plt.figure(figsize = (12,4))\n",
    "    plt.plot(train[target_var], label = 'Train', linewidth = 1)\n",
    "    plt.plot(validate[target_var], label = 'Validate', linewidth = 1)\n",
    "    plt.plot(test[target_var], label = 'Test', linewidth = 1)\n",
    "    plt.plot(yhat_df[target_var], alpha = .5, color=\"red\")\n",
    "    plt.title(target_var)\n",
    "    plt.legend()\n",
    "    plt.show()"
   ]
  },
  {
   "cell_type": "code",
   "execution_count": null,
   "id": "44a5f737",
   "metadata": {},
   "outputs": [],
   "source": [
    "print(\"rmse - avg_temp: \", avg_temp )\n",
    "print(\"rmse - uncertainty: \", uncertainty)\n",
    "\n",
    "for col in train.columns:\n",
    "    plot_and_eval_test(col)\n"
   ]
  },
  {
   "cell_type": "code",
   "execution_count": null,
   "id": "7bdcc7ad",
   "metadata": {},
   "outputs": [],
   "source": []
  },
  {
   "cell_type": "code",
   "execution_count": null,
   "id": "1cae80e3",
   "metadata": {},
   "outputs": [],
   "source": []
  }
 ],
 "metadata": {
  "kernelspec": {
   "display_name": "Python 3 (ipykernel)",
   "language": "python",
   "name": "python3"
  },
  "language_info": {
   "codemirror_mode": {
    "name": "ipython",
    "version": 3
   },
   "file_extension": ".py",
   "mimetype": "text/x-python",
   "name": "python",
   "nbconvert_exporter": "python",
   "pygments_lexer": "ipython3",
   "version": "3.9.13"
  },
  "toc": {
   "base_numbering": 1,
   "nav_menu": {},
   "number_sections": true,
   "sideBar": true,
   "skip_h1_title": false,
   "title_cell": "Table of Contents",
   "title_sidebar": "Contents",
   "toc_cell": false,
   "toc_position": {
    "height": "calc(100% - 180px)",
    "left": "10px",
    "top": "150px",
    "width": "170.390625px"
   },
   "toc_section_display": true,
   "toc_window_display": false
  }
 },
 "nbformat": 4,
 "nbformat_minor": 5
}
